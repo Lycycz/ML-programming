{
 "cells": [
  {
   "cell_type": "markdown",
   "metadata": {},
   "source": [
    "# 创建神经网络\n",
    "\n",
    "之前使用的`nn.Sequential`，它是`nn.Block`的简单形式"
   ]
  },
  {
   "cell_type": "code",
   "execution_count": 1,
   "metadata": {
    "scrolled": true
   },
   "outputs": [
    {
     "name": "stderr",
     "output_type": "stream",
     "text": [
      "D:\\Anaconda\\lib\\site-packages\\h5py\\__init__.py:36: FutureWarning: Conversion of the second argument of issubdtype from `float` to `np.floating` is deprecated. In future, it will be treated as `np.float64 == np.dtype(float).type`.\n",
      "  from ._conv import register_converters as _register_converters\n"
     ]
    },
    {
     "name": "stdout",
     "output_type": "stream",
     "text": [
      "Sequential(\n",
      "  (0): Dense(None -> 256, Activation(relu))\n",
      "  (1): Dense(None -> 10, linear)\n",
      ")\n"
     ]
    }
   ],
   "source": [
    "from mxnet import nd\n",
    "from mxnet.gluon import nn\n",
    "\n",
    "net = nn.Sequential()\n",
    "with net.name_scope():\n",
    "    net.add(nn.Dense(256, activation='relu'))\n",
    "    net.add(nn.Dense(10))\n",
    "    \n",
    "print(net)"
   ]
  },
  {
   "cell_type": "markdown",
   "metadata": {},
   "source": [
    "## 使用`nn.Block`定义\n",
    "\n",
    "`nn.Sequential` 是`nn.Block`的简单形式\n",
    "\n",
    "下面使用`nn.Block`定义相同的神经网络"
   ]
  },
  {
   "cell_type": "code",
   "execution_count": 2,
   "metadata": {},
   "outputs": [],
   "source": [
    "class MLP(nn.Block):\n",
    "    def __init__(self,**kwargs):\n",
    "        # 调用 MLP 父类 Block 的构造函数来进行必要的初始化。这样在构造实例时还可以指定\n",
    "        # 其他函数参数，例如下下一节将介绍的模型参数 params。\n",
    "        super(MLP, self).__init__(**kwargs)\n",
    "        with self.name_scope():\n",
    "            # 隐藏层\n",
    "            self.dense0 = nn.Dense(256)\n",
    "            # 输出层\n",
    "            self.dense1 = nn.Dense(10)\n",
    "            \n",
    "    def forward(self, x):\n",
    "        return self.dense1(nd.relu(self.dense0(x)))"
   ]
  },
  {
   "cell_type": "markdown",
   "metadata": {},
   "source": [
    "可以看到`nn.Block`是通过创建一个子类，至少包含两个函数\n",
    "\n",
    "* `__init__`:创建参数。dense层\n",
    "* `forward()`:定义网络计算"
   ]
  },
  {
   "cell_type": "code",
   "execution_count": 3,
   "metadata": {},
   "outputs": [
    {
     "name": "stdout",
     "output_type": "stream",
     "text": [
      "MLP(\n",
      "  (dense1): Dense(None -> 10, linear)\n",
      "  (dense0): Dense(None -> 256, linear)\n",
      ")\n"
     ]
    },
    {
     "data": {
      "text/plain": [
       "\n",
       "[[ 0.03126615  0.04562764  0.00039858 -0.08772386 -0.05355632  0.02904574\n",
       "   0.08102557 -0.01433946 -0.0422415   0.06047882]\n",
       " [ 0.02871901  0.03652266  0.0063005  -0.05650971 -0.07189323  0.08615957\n",
       "   0.05951559 -0.06045963 -0.02990259  0.05651   ]\n",
       " [ 0.02147349  0.04818897  0.05321142 -0.1261686  -0.06850231  0.09096343\n",
       "   0.04064303 -0.05064792 -0.02200241  0.04859561]\n",
       " [ 0.03780477  0.0751239   0.03290457 -0.11641112 -0.03254965  0.0586529\n",
       "   0.02542158 -0.01697343 -0.00049651  0.05892839]]\n",
       "<NDArray 4x10 @cpu(0)>"
      ]
     },
     "execution_count": 3,
     "metadata": {},
     "output_type": "execute_result"
    }
   ],
   "source": [
    "net2 = MLP()\n",
    "print(net2)\n",
    "net2.initialize()\n",
    "x = nd.random_uniform(shape=(4,20))\n",
    "y = net2(x)\n",
    "y"
   ]
  },
  {
   "cell_type": "markdown",
   "metadata": {},
   "source": [
    "MLP的其他指令\n",
    "\n",
    "* `super(MLP, self).__init__(**kwargs)`:调用`nn.Block`的init函数，它提供了`prefix(指定名字)`和`params(指定模型参数)`两个参数\n",
    "* `self.name_scope`:调用`nn.Block`的name_scope()函数。nn.Dense的定义在`scope`里面。作用是在参数的名字前面加上前缀(prefix)使得在系统中独一无二。默认也会自动生成名字，我们也可以手动指定。"
   ]
  },
  {
   "cell_type": "code",
   "execution_count": 4,
   "metadata": {},
   "outputs": [
    {
     "name": "stdout",
     "output_type": "stream",
     "text": [
      "('default prefix:', 'mlp0_dense0')\n",
      "('customized prefix', 'another_mlp_dense0')\n"
     ]
    }
   ],
   "source": [
    "# 默认的网络名字是mlp0,之后会是mlp1,mlp2...\n",
    "print('default prefix:', net2.dense0.name)\n",
    "\n",
    "# 通过prefix指定网络的名字\n",
    "net3 = MLP(prefix='another_mlp_')\n",
    "print('customized prefix', net3.dense0.name)"
   ]
  },
  {
   "cell_type": "markdown",
   "metadata": {},
   "source": [
    "## `nn.Block`到底是什么东西？\n",
    "\n",
    "在`gluon`中,`nn.block`是一个一般化的部件。整个神经网络可以是一个`Block`，每一层也可以是一个`Block`。我们可以无限嵌套`Block`构建新的`Block`\n",
    "\n",
    "`nn.Block`主要提供:\n",
    "* 存储参数\n",
    "* 描述`forward`如何执行\n",
    "* 自动求导"
   ]
  },
  {
   "cell_type": "markdown",
   "metadata": {},
   "source": [
    "## `nn.Sequential`是什么？\n",
    "\n",
    "`nn.Sequential`是一个`nn.Block`的容器，通过`add`添加`nn.Block`。自动生成`forward()`函数。\n",
    "\n",
    "\n",
    "`nn.Block`灵活的定义网络模型："
   ]
  },
  {
   "cell_type": "code",
   "execution_count": 13,
   "metadata": {},
   "outputs": [],
   "source": [
    "class FancyMLP(nn.Block):\n",
    "    def __init__(self, **kwargs):\n",
    "        super(FancyMLP, self).__init__(**kwargs)\n",
    "        with self.name_scope():\n",
    "            self.dense = nn.Dense(256)\n",
    "            self.weight = nd.random_uniform(shape=(256,20))\n",
    "            \n",
    "    def forward(self, x):\n",
    "        x = nd.relu(self.dense(x))\n",
    "        print('layer 1:', x)\n",
    "        x = nd.relu(nd.dot(x,self.weight) + 1)\n",
    "        print('layer 2:', x)\n",
    "        x = nd.relu(self.dense(x))\n",
    "        return x"
   ]
  },
  {
   "cell_type": "markdown",
   "metadata": {},
   "source": [
    "这里手动创建和初始了权重`weight`，重复利用`dense`层"
   ]
  },
  {
   "cell_type": "code",
   "execution_count": 14,
   "metadata": {
    "scrolled": false
   },
   "outputs": [
    {
     "name": "stdout",
     "output_type": "stream",
     "text": [
      "('layer 1:', \n",
      "[[0.         0.         0.         ... 0.         0.09402385 0.        ]\n",
      " [0.         0.01917659 0.         ... 0.         0.10604069 0.0302888 ]\n",
      " [0.         0.00497293 0.         ... 0.         0.09607705 0.07647321]\n",
      " [0.         0.         0.         ... 0.         0.02536895 0.00385839]]\n",
      "<NDArray 4x256 @cpu(0)>)\n",
      "('layer 2:', \n",
      "[[6.2171364 6.167362  5.785584  5.6673203 6.154541  6.0474033 5.8763294\n",
      "  6.005458  6.3182764 6.521799  6.4108615 6.086564  6.044205  6.610616\n",
      "  6.5525775 6.420291  6.028851  6.4767056 6.013627  6.506603 ]\n",
      " [6.5929112 6.473681  5.97452   5.880336  6.349225  6.1609235 6.050352\n",
      "  6.344292  6.5112767 6.889649  6.4470773 6.063143  6.0365057 7.1993375\n",
      "  6.663166  6.9170494 6.1159873 6.4819307 6.259358  6.631396 ]\n",
      " [6.3576856 6.3509774 5.896789  5.50926   6.204206  5.8810306 5.8243394\n",
      "  6.135947  6.00959   6.530128  6.0811534 5.9790435 6.0153184 6.7161665\n",
      "  6.493421  6.7051153 6.0544477 5.821261  6.178963  6.1601143]\n",
      " [5.7539215 5.502466  4.952092  4.8718157 5.153956  5.276363  5.0046406\n",
      "  5.410467  5.6826677 5.75491   5.4464407 5.2208276 5.196173  5.822932\n",
      "  5.6428413 5.984339  5.3007307 5.4357276 5.8631196 5.4986997]]\n",
      "<NDArray 4x20 @cpu(0)>)\n",
      "(4L, 256L)\n"
     ]
    }
   ],
   "source": [
    "fancy_mlp = FancyMLP()\n",
    "fancy_mlp.initialize()\n",
    "y = fancy_mlp(x)\n",
    "print(y.shape)"
   ]
  },
  {
   "cell_type": "markdown",
   "metadata": {},
   "source": [
    "## `nn.Block`和`nn.Sequential`的嵌套使用"
   ]
  },
  {
   "cell_type": "code",
   "execution_count": 30,
   "metadata": {},
   "outputs": [
    {
     "name": "stdout",
     "output_type": "stream",
     "text": [
      "Sequential(\n",
      "  (0): RecMLP(\n",
      "    (dense): Dense(None -> 64, linear)\n",
      "    (net): Sequential(\n",
      "      (0): Dense(None -> 256, Activation(relu))\n",
      "      (1): Dense(None -> 128, Activation(relu))\n",
      "    )\n",
      "  )\n",
      "  (1): Dense(None -> 10, linear)\n",
      ")\n"
     ]
    }
   ],
   "source": [
    "class RecMLP(nn.Block):\n",
    "    def __init__(self, **kwargs):\n",
    "        super(RecMLP, self).__init__(**kwargs)\n",
    "        self.net = nn.Sequential()\n",
    "        with self.name_scope():\n",
    "            self.net.add(nn.Dense(256, activation='relu'))\n",
    "            self.net.add(nn.Dense(128, activation='relu'))\n",
    "            self.dense = nn.Dense(64)\n",
    "            \n",
    "    def forward(self, x):\n",
    "        return nd.relu(self.dense(self.net(x)))\n",
    "\n",
    "rec_mlp = nn.Sequential()\n",
    "rec_mlp.add(RecMLP())\n",
    "rec_mlp.add(nn.Dense(10))\n",
    "print(rec_mlp)"
   ]
  },
  {
   "cell_type": "code",
   "execution_count": 40,
   "metadata": {},
   "outputs": [
    {
     "name": "stdout",
     "output_type": "stream",
     "text": [
      "<type 'list'>\n",
      "RecMLP(\n",
      "  (dense1): Dense(None -> 128, linear)\n",
      "  (dense0): Dense(None -> 256, linear)\n",
      "  (dense2): Dense(None -> 64, linear)\n",
      ")\n"
     ]
    }
   ],
   "source": [
    "class RecMLP(nn.Block):\n",
    "    def __init__(self, **kwargs):\n",
    "        super(RecMLP, self).__init__(**kwargs)\n",
    "        with self.name_scope():\n",
    "            # 必须实例化 不能 self.denses = [nn.Dense(256),nn.Dense(128)\n",
    "            # ,nn.Dense(64)]\n",
    "            self.dense0 = nn.Dense(256)\n",
    "            self.dense1 = nn.Dense(128)\n",
    "            self.dense2 = nn.Dense(64)\n",
    "            self.denses =[self.dense0, self.dense1, \n",
    "                     self.dense2] \n",
    "            \n",
    "    def forward(self, x):\n",
    "        for dense in self.denses:\n",
    "            x= nd.relu(dense(x))\n",
    "        return x\n",
    "\n",
    "rec_mlp = RecMLP()\n",
    "rec_mlp.initialize()\n",
    "print(rec_mlp)"
   ]
  }
 ],
 "metadata": {
  "kernelspec": {
   "display_name": "Python 2",
   "language": "python",
   "name": "python2"
  },
  "language_info": {
   "codemirror_mode": {
    "name": "ipython",
    "version": 2
   },
   "file_extension": ".py",
   "mimetype": "text/x-python",
   "name": "python",
   "nbconvert_exporter": "python",
   "pygments_lexer": "ipython2",
   "version": "2.7.14"
  }
 },
 "nbformat": 4,
 "nbformat_minor": 2
}
