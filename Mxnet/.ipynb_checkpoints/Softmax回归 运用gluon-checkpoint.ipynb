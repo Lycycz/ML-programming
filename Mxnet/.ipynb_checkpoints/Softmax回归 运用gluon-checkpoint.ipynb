{
 "cells": [
  {
   "cell_type": "code",
   "execution_count": 1,
   "metadata": {},
   "outputs": [
    {
     "name": "stderr",
     "output_type": "stream",
     "text": [
      "D:\\Anaconda\\lib\\site-packages\\h5py\\__init__.py:36: FutureWarning: Conversion of the second argument of issubdtype from `float` to `np.floating` is deprecated. In future, it will be treated as `np.float64 == np.dtype(float).type`.\n",
      "  from ._conv import register_converters as _register_converters\n"
     ]
    }
   ],
   "source": [
    "import sys\n",
    "sys.path.append('..')\n",
    "import gluonbook as gb\n",
    "from mxnet import autograd, gluon, init, nd\n",
    "from mxnet.gluon import loss as gloss, nn"
   ]
  },
  {
   "cell_type": "markdown",
   "metadata": {},
   "source": [
    "## 读取和获取数据"
   ]
  },
  {
   "cell_type": "code",
   "execution_count": 2,
   "metadata": {},
   "outputs": [],
   "source": [
    "batch_size = 256\n",
    "train_iter, test_iter = gb.load_data_fashion_mnist(batch_size)"
   ]
  },
  {
   "cell_type": "markdown",
   "metadata": {},
   "source": [
    "## 创建模型"
   ]
  },
  {
   "cell_type": "code",
   "execution_count": 6,
   "metadata": {},
   "outputs": [],
   "source": [
    "net = nn.Sequential()\n",
    "# 将矩阵转化为2维 (N, x1, x2, ..., xn)->(N, x1 cdot x2 cdot ... cdot xn)\n",
    "net.add(nn.Flatten())\n",
    "net.add(nn.Dense(10))\n",
    "net.initialize()"
   ]
  },
  {
   "cell_type": "markdown",
   "metadata": {},
   "source": [
    "## 定义损失函数"
   ]
  },
  {
   "cell_type": "code",
   "execution_count": 7,
   "metadata": {},
   "outputs": [],
   "source": [
    "loss = gloss.SoftmaxCrossEntropyLoss()"
   ]
  },
  {
   "cell_type": "markdown",
   "metadata": {},
   "source": []
  },
  {
   "cell_type": "code",
   "execution_count": 11,
   "metadata": {},
   "outputs": [],
   "source": [
    "trainer = gluon.Trainer(net.collect_params(),'sgd',{'learning_rate':0.1})"
   ]
  },
  {
   "cell_type": "code",
   "execution_count": 12,
   "metadata": {},
   "outputs": [
    {
     "name": "stdout",
     "output_type": "stream",
     "text": [
      "epoch 1, loss 0.7993, train acc 0.741, test acc 0.790\n",
      "epoch 2, loss 0.5759, train acc 0.809, test acc 0.823\n",
      "epoch 3, loss 0.5307, train acc 0.823, test acc 0.829\n",
      "epoch 4, loss 0.5067, train acc 0.829, test acc 0.832\n",
      "epoch 5, loss 0.4920, train acc 0.834, test acc 0.840\n"
     ]
    }
   ],
   "source": [
    "num_epochs = 5\n",
    "gb.train_cpu(net, train_iter, test_iter, loss, num_epochs, batch_size, None,\n",
    "             None, trainer)"
   ]
  },
  {
   "cell_type": "code",
   "execution_count": 14,
   "metadata": {},
   "outputs": [
    {
     "data": {
      "text/plain": [
       "\n",
       "[[ 0.00680001  0.0130991   0.03081854 ... -0.04885751 -0.06999777\n",
       "  -0.05754042]\n",
       " [ 0.06396577  0.03162491 -0.05092496 ...  0.03160559 -0.03599364\n",
       "  -0.03172842]\n",
       " [ 0.02400585 -0.00222914  0.00818483 ... -0.00846817 -0.00053453\n",
       "   0.01413477]\n",
       " ...\n",
       " [ 0.03068383 -0.00935664  0.00065872 ... -0.05461656  0.05938977\n",
       "  -0.02229091]\n",
       " [ 0.03250813 -0.02452605  0.00831796 ...  0.0314432   0.00841969\n",
       "  -0.05081877]\n",
       " [ 0.00180904  0.01739297 -0.05796824 ...  0.0471158  -0.03695438\n",
       "   0.06394048]]\n",
       "<NDArray 10x784 @cpu(0)>"
      ]
     },
     "execution_count": 14,
     "metadata": {},
     "output_type": "execute_result"
    }
   ],
   "source": [
    "net[1].weight.data()"
   ]
  },
  {
   "cell_type": "code",
   "execution_count": 17,
   "metadata": {},
   "outputs": [
    {
     "name": "stdout",
     "output_type": "stream",
     "text": [
      "(256L, 1L, 28L, 28L)\n",
      "(256L,)\n"
     ]
    }
   ],
   "source": [
    "for data,labels in train_iter:\n",
    "    print(data.shape)\n",
    "    print(labels.shape)\n",
    "    break"
   ]
  }
 ],
 "metadata": {
  "kernelspec": {
   "display_name": "Python 2",
   "language": "python",
   "name": "python2"
  },
  "language_info": {
   "codemirror_mode": {
    "name": "ipython",
    "version": 2
   },
   "file_extension": ".py",
   "mimetype": "text/x-python",
   "name": "python",
   "nbconvert_exporter": "python",
   "pygments_lexer": "ipython2",
   "version": "2.7.14"
  }
 },
 "nbformat": 4,
 "nbformat_minor": 2
}
