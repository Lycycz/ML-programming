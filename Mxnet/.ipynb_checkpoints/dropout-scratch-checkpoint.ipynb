{
 "cells": [
  {
   "cell_type": "markdown",
   "metadata": {},
   "source": [
    "# 丢弃法的实现\n",
    "\n",
    "## 方法和原理\n",
    "\n",
    "隐藏单元$h_i$$(i=1, \\ldots, 5)$的计算表达式为\n",
    "\n",
    "$$ h_i = \\phi(x_1 w_1^{(i)} + x_2 w_2^{(i)} + x_3 w_3^{(i)} + x_4 w_4^{(i)} + b^{(i)}), $$\n",
    "\n",
    "其中$\\phi$是激活函数，$x_1, \\ldots, x_4$是输入，$w_1^{(i)}, \\ldots, w_4^{(i)}$是权重参数，$b^{(i)}$是偏差参数。设丢失概率为$p$,并设随机变量$\\xi_i$有概率$p$概率为0，有$1-p$概率为1，使用丢弃法的隐藏单元$h_i$的计算表达式为：\n",
    "\n",
    "$$ h_i = \\frac{\\xi_i}{1-p} \\phi(x_1 w_1^{(i)} + x_2 w_2^{(i)} + x_3 w_3^{(i)} + x_4 w_4^{(i)} + b^{(i)}). $$\n",
    "\n",
    "注意到测试模型时不使用丢弃法。由于$\\mathbb{E} (\\xi_i) = 1-p$，同一神经元在模型训练和测试时的输出值的期望不变。\n",
    "\n",
    "每个神经元有可能被丢弃。$E=0 * p +1 * (1-p)=1-p$，期望是不变的。"
   ]
  },
  {
   "cell_type": "markdown",
   "metadata": {},
   "source": [
    "## 实现丢弃法\n",
    "\n",
    "根据丢弃法的定义，这里的标量`drop_probability`定义了一个`x`（`NDArray`类）中任何一个元素被丢弃的概率"
   ]
  },
  {
   "cell_type": "code",
   "execution_count": 3,
   "metadata": {},
   "outputs": [],
   "source": [
    "from mxnet.gluon import nn\n",
    "\n",
    "## 一个问号看文件，两个问号可以看实现\n",
    "nn.Dense?"
   ]
  },
  {
   "cell_type": "code",
   "execution_count": 10,
   "metadata": {},
   "outputs": [],
   "source": [
    "from mxnet import nd\n",
    "\n",
    "def dropout(X, drop_probability):\n",
    "    keep_probability = 1 - drop_probability\n",
    "    assert 0 <= keep_probability <= 1\n",
    "    # 所有的元素全部丢弃\n",
    "    if keep_probability == 0:\n",
    "        return X.zeros_like()\n",
    "    \n",
    "    # keep_probability的概率为0，1-keep_probability概率为1\n",
    "    # 相乘就是1-keep_probability概率保留数据\n",
    "    mask = nd.random.uniform(\n",
    "        0, 1.0, X.shape, ctx=X.context) < keep_probability\n",
    "    scale = 1 / keep_probability\n",
    "    return mask * X * scale"
   ]
  },
  {
   "cell_type": "markdown",
   "metadata": {},
   "source": [
    "运行进行验证"
   ]
  },
  {
   "cell_type": "code",
   "execution_count": 11,
   "metadata": {},
   "outputs": [
    {
     "data": {
      "text/plain": [
       "\n",
       "[[ 0.  1.  2.  3.]\n",
       " [ 4.  5.  6.  7.]\n",
       " [ 8.  9. 10. 11.]\n",
       " [12. 13. 14. 15.]\n",
       " [16. 17. 18. 19.]]\n",
       "<NDArray 5x4 @cpu(0)>"
      ]
     },
     "execution_count": 11,
     "metadata": {},
     "output_type": "execute_result"
    }
   ],
   "source": [
    "A = nd.arange(20).reshape((5,4))\n",
    "dropout(A, 0.0)"
   ]
  },
  {
   "cell_type": "code",
   "execution_count": 12,
   "metadata": {},
   "outputs": [
    {
     "data": {
      "text/plain": [
       "\n",
       "[[ 0.  2.  0.  0.]\n",
       " [ 8. 10.  0. 14.]\n",
       " [16. 18.  0. 22.]\n",
       " [ 0. 26.  0. 30.]\n",
       " [ 0.  0.  0. 38.]]\n",
       "<NDArray 5x4 @cpu(0)>"
      ]
     },
     "execution_count": 12,
     "metadata": {},
     "output_type": "execute_result"
    }
   ],
   "source": [
    "dropout(A , 0.5)"
   ]
  },
  {
   "cell_type": "code",
   "execution_count": 13,
   "metadata": {},
   "outputs": [
    {
     "data": {
      "text/plain": [
       "\n",
       "[[0. 0. 0. 0.]\n",
       " [0. 0. 0. 0.]\n",
       " [0. 0. 0. 0.]\n",
       " [0. 0. 0. 0.]\n",
       " [0. 0. 0. 0.]]\n",
       "<NDArray 5x4 @cpu(0)>"
      ]
     },
     "execution_count": 13,
     "metadata": {},
     "output_type": "execute_result"
    }
   ],
   "source": [
    "dropout(A, 1.0)"
   ]
  }
 ],
 "metadata": {
  "kernelspec": {
   "display_name": "Python 2",
   "language": "python",
   "name": "python2"
  },
  "language_info": {
   "codemirror_mode": {
    "name": "ipython",
    "version": 2
   },
   "file_extension": ".py",
   "mimetype": "text/x-python",
   "name": "python",
   "nbconvert_exporter": "python",
   "pygments_lexer": "ipython2",
   "version": "2.7.14"
  }
 },
 "nbformat": 4,
 "nbformat_minor": 2
}
