{
 "cells": [
  {
   "cell_type": "code",
   "execution_count": 15,
   "metadata": {
    "scrolled": true
   },
   "outputs": [
    {
     "name": "stdout",
     "output_type": "stream",
     "text": [
      "input: \n",
      "[[[[0. 1. 2.]\n",
      "   [3. 4. 5.]\n",
      "   [6. 7. 8.]]]]\n",
      "<NDArray 1x1x3x3 @cpu(0)> \n",
      "\n",
      "weight: \n",
      "[[[[0. 1.]\n",
      "   [2. 3.]]]]\n",
      "<NDArray 1x1x2x2 @cpu(0)> \n",
      "\n",
      "bias \n",
      "[1.]\n",
      "<NDArray 1 @cpu(0)> \n",
      "\n",
      "output: \n",
      "[[[[1. 9.]\n",
      "   [7. 9.]]]]\n",
      "<NDArray 1x1x2x2 @cpu(0)>\n"
     ]
    }
   ],
   "source": [
    "from mxnet import nd\n",
    "\n",
    "\n",
    "w = nd.arange(4).reshape((1,1,2,2))\n",
    "b = nd.array([1])\n",
    "data = nd.arange(9).reshape((1,1,3,3))\n",
    "out = nd.Convolution(data, w, b, kernel=w.shape[2:], num_filter=w.shape[1],\n",
    "                    stride=(3,2), pad=(1,1))\n",
    "\n",
    "print 'input:', data, '\\n\\nweight:', w, '\\n\\nbias', b, '\\n\\noutput:', out"
   ]
  },
  {
   "cell_type": "markdown",
   "metadata": {},
   "source": [
    "# 卷积运算\n",
    "\n",
    "\n",
    "我们常用更加直观的相关运算符（correlation）来实现卷积层。一个二维相关运算符将一个二维核（kernel）数组作用在一个二维输入数据上来计算一个二维数组输出。下图演示了如何对一个高宽为3的输入`X`作用高宽为2的核K来计算输出`Y`。\n",
    "![](http://zh.gluon.ai/_images/correlation.svg)\n",
    "\n",
    "### 填充\n",
    "\n",
    "pad参数-填充(1,1)\n",
    "高的填充为1，长的填充为1\n",
    "![](http://zh.gluon.ai/_images/conv_pad.svg)\n",
    "\n",
    "### 步幅\n",
    "\n",
    "stride参数-步幅(3,2)\n",
    "高的步幅为3，长的步幅为2\n",
    "![](http://zh.gluon.ai/_images/conv_stride.svg)"
   ]
  },
  {
   "cell_type": "code",
   "execution_count": 20,
   "metadata": {
    "collapsed": true
   },
   "outputs": [
    {
     "name": "stdout",
     "output_type": "stream",
     "text": [
      "input: \n",
      "[[[[ 0.  1.  2.]\n",
      "   [ 3.  4.  5.]\n",
      "   [ 6.  7.  8.]]\n",
      "\n",
      "  [[ 9. 10. 11.]\n",
      "   [12. 13. 14.]\n",
      "   [15. 16. 17.]]]]\n",
      "<NDArray 1x2x3x3 @cpu(0)> \n",
      "\n",
      "weight: \n",
      "[[[[0. 1.]\n",
      "   [2. 3.]]\n",
      "\n",
      "  [[4. 5.]\n",
      "   [6. 7.]]]]\n",
      "<NDArray 1x2x2x2 @cpu(0)> \n",
      "\n",
      "bias \n",
      "[1.]\n",
      "<NDArray 1 @cpu(0)> \n",
      "\n",
      "output: \n",
      "[[[[269. 297.]\n",
      "   [353. 381.]]]]\n",
      "<NDArray 1x1x2x2 @cpu(0)>\n"
     ]
    }
   ],
   "source": [
    "w = nd.arange(8).reshape((1,2,2,2))\n",
    "b = nd.array([1])\n",
    "data = nd.arange(18).reshape((1,2,3,3))\n",
    "out = nd.Convolution(data, w, b, kernel=w.shape[2:], num_filter=w.shape[0],\n",
    "                    )\n",
    "print 'input:', data, '\\n\\nweight:', w, '\\n\\nbias', b, '\\n\\noutput:', out"
   ]
  },
  {
   "cell_type": "code",
   "execution_count": 22,
   "metadata": {},
   "outputs": [
    {
     "name": "stdout",
     "output_type": "stream",
     "text": [
      "input: \n",
      "[[[[ 0.  1.  2.]\n",
      "   [ 3.  4.  5.]\n",
      "   [ 6.  7.  8.]]\n",
      "\n",
      "  [[ 9. 10. 11.]\n",
      "   [12. 13. 14.]\n",
      "   [15. 16. 17.]]]]\n",
      "<NDArray 1x2x3x3 @cpu(0)> \n",
      "\n",
      "weight: \n",
      "[[[[ 0.  1.]\n",
      "   [ 2.  3.]]\n",
      "\n",
      "  [[ 4.  5.]\n",
      "   [ 6.  7.]]]\n",
      "\n",
      "\n",
      " [[[ 8.  9.]\n",
      "   [10. 11.]]\n",
      "\n",
      "  [[12. 13.]\n",
      "   [14. 15.]]]]\n",
      "<NDArray 2x2x2x2 @cpu(0)> \n",
      "\n",
      "bias \n",
      "[1. 2.]\n",
      "<NDArray 2 @cpu(0)> \n",
      "\n",
      "output: \n",
      "[[[[ 269.  297.]\n",
      "   [ 353.  381.]]\n",
      "\n",
      "  [[ 686.  778.]\n",
      "   [ 962. 1054.]]]]\n",
      "<NDArray 1x2x2x2 @cpu(0)>\n"
     ]
    }
   ],
   "source": [
    "w = nd.arange(16).reshape((2,2,2,2))\n",
    "b = nd.array([1,2])\n",
    "data = nd.arange(18).reshape((1,2,3,3))\n",
    "out = nd.Convolution(data, w, b, kernel=w.shape[2:], num_filter=w.shape[0],\n",
    "                    )\n",
    "print 'input:', data, '\\n\\nweight:', w, '\\n\\nbias', b, '\\n\\noutput:', out"
   ]
  },
  {
   "cell_type": "code",
   "execution_count": 23,
   "metadata": {},
   "outputs": [
    {
     "name": "stdout",
     "output_type": "stream",
     "text": [
      "(2L, 2L, 2L, 2L) (1L, 2L, 3L, 3L) (1L, 2L, 2L, 2L)\n"
     ]
    }
   ],
   "source": [
    "print w.shape,data.shape,out.shape"
   ]
  },
  {
   "cell_type": "code",
   "execution_count": null,
   "metadata": {},
   "outputs": [],
   "source": []
  }
 ],
 "metadata": {
  "kernelspec": {
   "display_name": "Python 2",
   "language": "python",
   "name": "python2"
  },
  "language_info": {
   "codemirror_mode": {
    "name": "ipython",
    "version": 2
   },
   "file_extension": ".py",
   "mimetype": "text/x-python",
   "name": "python",
   "nbconvert_exporter": "python",
   "pygments_lexer": "ipython2",
   "version": "2.7.14"
  }
 },
 "nbformat": 4,
 "nbformat_minor": 2
}
