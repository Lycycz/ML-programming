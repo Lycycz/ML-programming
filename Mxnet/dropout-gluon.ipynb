{
 "cells": [
  {
   "cell_type": "markdown",
   "metadata": {},
   "source": [
    "## 定义模型并添加批量归一化层\n",
    "\n",
    "全连接层后添加`gluon.nn.Dropout`层并指定丢弃概率。一般情况下，把距离输入层近的丢弃概率设的更小一些。这个实验中，第一层全连接后的丢失概率设为`0.2`，第二层全连接后的丢失概率设为`0.5`。"
   ]
  },
  {
   "cell_type": "code",
   "execution_count": 7,
   "metadata": {},
   "outputs": [],
   "source": [
    "from mxnet import nd\n",
    "from mxnet.gluon import nn\n",
    "\n",
    "net = nn.Sequential()\n",
    "drop_prob1 = 0.2\n",
    "drop_prob2 = 0.5\n",
    "\n",
    "with net.name_scope():\n",
    "    net.add(nn.Flatten())\n",
    "    net.add(nn.Dense(256, activation='relu'))\n",
    "    net.add(nn.Dropout(drop_prob1))\n",
    "    net.add(nn.Dense(256, activation='relu'))\n",
    "    net.add(nn.Dropout(drop_prob2))\n",
    "    net.add(nn.Dense(10))\n",
    "\n",
    "net.initialize()"
   ]
  },
  {
   "cell_type": "code",
   "execution_count": 8,
   "metadata": {},
   "outputs": [
    {
     "data": {
      "text/plain": [
       "\n",
       "[[-0.00322925 -0.01427576 -0.01508944 -0.01521941  0.01043174  0.03454528\n",
       "  -0.00721426 -0.00437529  0.0138713   0.02953163]\n",
       " [ 0.00642689 -0.00326098 -0.01574254 -0.00178936  0.0129279   0.02064605\n",
       "  -0.00875407 -0.01314064  0.00577726  0.02088547]\n",
       " [ 0.00470901 -0.00373822 -0.02086624 -0.00607762  0.01749899  0.0271516\n",
       "  -0.01316164 -0.00412487  0.01404737  0.02045976]]\n",
       "<NDArray 3x10 @cpu(0)>"
      ]
     },
     "execution_count": 8,
     "metadata": {},
     "output_type": "execute_result"
    }
   ],
   "source": [
    "x = nd.random_uniform(shape=(3, 10))\n",
    "net(x)"
   ]
  }
 ],
 "metadata": {
  "kernelspec": {
   "display_name": "Python 2",
   "language": "python",
   "name": "python2"
  },
  "language_info": {
   "codemirror_mode": {
    "name": "ipython",
    "version": 2
   },
   "file_extension": ".py",
   "mimetype": "text/x-python",
   "name": "python",
   "nbconvert_exporter": "python",
   "pygments_lexer": "ipython2",
   "version": "2.7.14"
  }
 },
 "nbformat": 4,
 "nbformat_minor": 2
}
