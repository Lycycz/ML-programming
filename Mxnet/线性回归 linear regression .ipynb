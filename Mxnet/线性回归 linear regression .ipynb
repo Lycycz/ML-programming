{
 "cells": [
  {
   "cell_type": "markdown",
   "metadata": {},
   "source": [
    "# 导入本节中实验所需的包或模块"
   ]
  },
  {
   "cell_type": "code",
   "execution_count": 1,
   "metadata": {},
   "outputs": [
    {
     "name": "stderr",
     "output_type": "stream",
     "text": [
      "D:\\Anaconda\\lib\\site-packages\\h5py\\__init__.py:36: FutureWarning: Conversion of the second argument of issubdtype from `float` to `np.floating` is deprecated. In future, it will be treated as `np.float64 == np.dtype(float).type`.\n",
      "  from ._conv import register_converters as _register_converters\n"
     ]
    }
   ],
   "source": [
    "from matplotlib import pyplot as plt\n",
    "from mxnet import autograd, nd\n",
    "import random"
   ]
  },
  {
   "cell_type": "markdown",
   "metadata": {},
   "source": [
    "# 人工生成数据集\n",
    "设训练数据集样本数为1000，输入个数（特征数）为2"
   ]
  },
  {
   "cell_type": "code",
   "execution_count": 29,
   "metadata": {},
   "outputs": [],
   "source": [
    "# 两个特征值\n",
    "num_inputs = 2\n",
    "# 一共有1000个样本\n",
    "num_examples = 1000\n",
    "# 真实的系数\n",
    "true_w = [2, -3.4]\n",
    "# 真实的偏移量\n",
    "true_b = 4.2\n",
    "\n",
    "# 加上常数偏移量\n",
    "theta = nd.array([2,-3.4,4.2])\n",
    "\n",
    "features = nd.random.normal(scale=1, shape=(num_examples, num_inputs))\n",
    "\n",
    "labels = true_w[0] * features[:, 0] + true_w[1] * features[:, 1] + true_b\n",
    "labels += nd.random.normal(scale=0.01, shape=labels.shape)\n",
    "\n",
    "# 添加一列偏移量\n",
    "features2 = nd.concat(features,nd.ones((num_examples,1)))\n",
    "# print(features.shape)\n",
    "# print(y.T.shape)\n",
    "\n",
    "# 直接使用矩阵相乘\n",
    "h = nd.dot(features2,theta.T)"
   ]
  },
  {
   "cell_type": "code",
   "execution_count": 31,
   "metadata": {},
   "outputs": [
    {
     "data": {
      "text/plain": [
       "(\n",
       " [1.4957961 0.2743271 1.       ]\n",
       " <NDArray 3 @cpu(0)>, \n",
       " [6.2588797]\n",
       " <NDArray 1 @cpu(0)>)"
      ]
     },
     "execution_count": 31,
     "metadata": {},
     "output_type": "execute_result"
    }
   ],
   "source": [
    "features2[0],h[0]"
   ]
  },
  {
   "cell_type": "code",
   "execution_count": 34,
   "metadata": {},
   "outputs": [
    {
     "data": {
      "image/png": "[encoded data removed]",
      "text/plain": [
       "<matplotlib.figure.Figure at 0x17efe518>"
      ]
     },
     "metadata": {},
     "output_type": "display_data"
    }
   ],
   "source": [
    "plt.rcParams['figure.figsize'] = (3.5, 2.5)\n",
    "plt.scatter(features[:, 1].asnumpy(), h.asnumpy(), 1)\n",
    "plt.show()"
   ]
  },
  {
   "cell_type": "markdown",
   "metadata": {},
   "source": [
    "# 读取数据\n",
    "在训练模型的时候，我们需要遍历数据集并不断读取小批量数据样本。这里我们定义一个函数：它每次返回batch_size个随机样本的特征和标签。设批量大小（batch_size）为10。"
   ]
  },
  {
   "cell_type": "code",
   "execution_count": 61,
   "metadata": {},
   "outputs": [],
   "source": [
    "batch_size = 10\n",
    "def data_iter(batch_size, num_examples, features, labels): \n",
    "    indices = list(range(num_examples))\n",
    "    # 打乱序号顺序\n",
    "    random.shuffle(indices)\n",
    "    for i in range(0, num_examples, batch_size):\n",
    "        # 取出batch_size个序号\n",
    "        j = nd.array(indices[i: min(i + batch_size, num_examples)])\n",
    "        yield features.take(j), labels.take(j)"
   ]
  },
  {
   "cell_type": "code",
   "execution_count": 56,
   "metadata": {},
   "outputs": [
    {
     "name": "stdout",
     "output_type": "stream",
     "text": [
      "(\n",
      "[[ 0.06481725  1.5408728   1.        ]\n",
      " [-0.8311352  -0.14018238  1.        ]\n",
      " [-1.0127133   0.6739536   1.        ]\n",
      " [ 2.5453484  -1.7833183   1.        ]\n",
      " [ 1.7378117  -0.82245797  1.        ]\n",
      " [-0.23488404 -1.25009     1.        ]\n",
      " [-0.32321382 -0.7613514   1.        ]\n",
      " [ 0.3421999   1.1175125   1.        ]\n",
      " [-0.5978728   1.3310035   1.        ]\n",
      " [-0.7392441   0.08465821  1.        ]]\n",
      "<NDArray 10x3 @cpu(0)>, \n",
      "[-0.9093337   3.0143495  -0.11686897 15.353979   10.47198     7.980538\n",
      "  6.142167    1.0848572  -1.5211577   2.4336739 ]\n",
      "<NDArray 10 @cpu(0)>)\n"
     ]
    }
   ],
   "source": [
    "for X, y in data_iter(batch_size, num_examples, features2, h):\n",
    "    print(X, y)\n",
    "    break"
   ]
  },
  {
   "cell_type": "markdown",
   "metadata": {},
   "source": [
    "# 初始化模型参数"
   ]
  },
  {
   "cell_type": "code",
   "execution_count": 55,
   "metadata": {},
   "outputs": [
    {
     "name": "stdout",
     "output_type": "stream",
     "text": [
      "\n",
      "[[0.01225252 0.00474241 0.        ]]\n",
      "<NDArray 1x3 @cpu(0)>\n"
     ]
    }
   ],
   "source": [
    "w = nd.random.normal(scale=0.01, shape=(1, num_inputs))\n",
    "b = nd.zeros(shape=(1,1))\n",
    "params = [w, b]\n",
    "\n",
    "initial_theta=nd.concat(w,b,dim=1)\n",
    "print(initial_theta)"
   ]
  },
  {
   "cell_type": "code",
   "execution_count": 57,
   "metadata": {},
   "outputs": [],
   "source": [
    "def linreg(X, theta): \n",
    "    return nd.dot(X,theta.T ) "
   ]
  },
  {
   "cell_type": "code",
   "execution_count": 58,
   "metadata": {},
   "outputs": [],
   "source": [
    "def squared_loss(y_hat, y): \n",
    "    return (y_hat - y.reshape(y_hat.shape)) ** 2 / 2"
   ]
  },
  {
   "cell_type": "code",
   "execution_count": 72,
   "metadata": {},
   "outputs": [],
   "source": [
    "initial_theta.attach_grad()\n",
    "def sgd(theta, lr, batch_size):\n",
    "    theta[:] = theta - lr * theta.grad / batch_size"
   ]
  },
  {
   "cell_type": "code",
   "execution_count": 75,
   "metadata": {},
   "outputs": [
    {
     "name": "stdout",
     "output_type": "stream",
     "text": [
      "epoch 1, loss 0.000000\n",
      "epoch 2, loss 0.000000\n",
      "epoch 3, loss 0.000000\n"
     ]
    }
   ],
   "source": [
    "lr = 0.03\n",
    "num_epochs = 3\n",
    "net = linreg\n",
    "loss = squared_loss\n",
    "\n",
    "for epoch in range(1, num_epochs + 1):\n",
    "    for X, y in data_iter(batch_size, num_examples, features2, h):\n",
    "        with autograd.record():\n",
    "            l = loss(net(X,initial_theta), y)\n",
    "        l.backward()\n",
    "        sgd(initial_theta, lr, batch_size)\n",
    "    print(\"epoch %d, loss %f\"\n",
    "          % (epoch, loss(net(features2, initial_theta), h).mean().asnumpy()))"
   ]
  },
  {
   "cell_type": "code",
   "execution_count": 76,
   "metadata": {},
   "outputs": [
    {
     "data": {
      "text/plain": [
       "\n",
       "[[ 2.        -3.3999999  4.199994 ]]\n",
       "<NDArray 1x3 @cpu(0)>"
      ]
     },
     "execution_count": 76,
     "metadata": {},
     "output_type": "execute_result"
    }
   ],
   "source": [
    "initial_theta.T"
   ]
  },
  {
   "cell_type": "code",
   "execution_count": 77,
   "metadata": {},
   "outputs": [
    {
     "data": {
      "text/plain": [
       "\n",
       "[ 2.  -3.4  4.2]\n",
       "<NDArray 3 @cpu(0)>"
      ]
     },
     "execution_count": 77,
     "metadata": {},
     "output_type": "execute_result"
    }
   ],
   "source": [
    "theta"
   ]
  }
 ],
 "metadata": {
  "kernelspec": {
   "display_name": "Python 2",
   "language": "python",
   "name": "python2"
  },
  "language_info": {
   "codemirror_mode": {
    "name": "ipython",
    "version": 2
   },
   "file_extension": ".py",
   "mimetype": "text/x-python",
   "name": "python",
   "nbconvert_exporter": "python",
   "pygments_lexer": "ipython2",
   "version": "2.7.14"
  }
 },
 "nbformat": 4,
 "nbformat_minor": 2
}
